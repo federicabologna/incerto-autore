{
 "cells": [
  {
   "cell_type": "code",
   "execution_count": 2,
   "metadata": {
    "colab": {
     "base_uri": "https://localhost:8080/"
    },
    "executionInfo": {
     "elapsed": 19671,
     "status": "ok",
     "timestamp": 1681177218306,
     "user": {
      "displayName": "Federica Bologna",
      "userId": "16530074403271623482"
     },
     "user_tz": 240
    },
    "id": "zJxggz4I5mi2",
    "outputId": "5e311e55-bd33-42fd-e239-3e311f757e0e"
   },
   "outputs": [
    {
     "name": "stdout",
     "output_type": "stream",
     "text": [
      "Mounted at /content/drive\n"
     ]
    }
   ],
   "source": [
    "import os\n",
    "import glob\n",
    "import re\n",
    "from unidecode import unidecode\n",
    "import csv\n",
    "import pandas as pd\n",
    "import numpy as np\n",
    "import scipy\n",
    "import seaborn as sns\n",
    "import matplotlib.pyplot as plt\n",
    "\n",
    "from sklearn.metrics import accuracy_score, classification_report\n",
    "from sklearn.feature_extraction.text import CountVectorizer, TfidfVectorizer\n",
    "from sklearn.preprocessing import StandardScaler, normalize\n",
    "\n",
    "# Mount the Google drive for access to files\n",
    "from google.colab import drive\n",
    "drive.mount('/content/drive')"
   ]
  },
  {
   "cell_type": "code",
   "execution_count": 5,
   "metadata": {
    "executionInfo": {
     "elapsed": 152,
     "status": "ok",
     "timestamp": 1681177222833,
     "user": {
      "displayName": "Federica Bologna",
      "userId": "16530074403271623482"
     },
     "user_tz": 240
    },
    "id": "fKIN33kTtuB4"
   },
   "outputs": [],
   "source": [
    "poems_clean = False\n",
    "poems_split = False"
   ]
  },
  {
   "cell_type": "code",
   "execution_count": 4,
   "metadata": {
    "executionInfo": {
     "elapsed": 1684,
     "status": "ok",
     "timestamp": 1681177219986,
     "user": {
      "displayName": "Federica Bologna",
      "userId": "16530074403271623482"
     },
     "user_tz": 240
    },
    "id": "PQLjyeSGx5B2"
   },
   "outputs": [],
   "source": [
    "incerto_dir = '/content/drive/MyDrive/incerto-autore/'\n",
    "og_poems_dir = os.path.join(incerto_dir, 'data', 'original-poems')\n",
    "poems_files = glob.glob(os.path.join(og_poems_dir, \"*.txt\"))\n",
    "new_poems_dir = os.path.join(incerto_dir, 'data', 'poems')\n",
    "figures_dir = os.path.join(incerto_dir, 'output', 'figures')"
   ]
  },
  {
   "cell_type": "markdown",
   "metadata": {
    "id": "QDrdnUdMiNss"
   },
   "source": [
    "## Cleaning poems\n"
   ]
  },
  {
   "cell_type": "code",
   "execution_count": null,
   "metadata": {
    "colab": {
     "base_uri": "https://localhost:8080/"
    },
    "executionInfo": {
     "elapsed": 7,
     "status": "ok",
     "timestamp": 1668018267307,
     "user": {
      "displayName": "Federica Bologna",
      "userId": "16530074403271623482"
     },
     "user_tz": 300
    },
    "id": "KmU4sdrnubJG",
    "outputId": "6fd13996-c1c3-4363-ac84-bb7c418aa015"
   },
   "outputs": [
    {
     "data": {
      "text/plain": [
       "189"
      ]
     },
     "execution_count": 5,
     "metadata": {},
     "output_type": "execute_result"
    }
   ],
   "source": [
    "len(poems_files)"
   ]
  },
  {
   "cell_type": "code",
   "execution_count": null,
   "metadata": {
    "id": "7ZCHFmzsXRYF"
   },
   "outputs": [],
   "source": [
    "def cleaning_poems(_new_poems_dir, _poems_files):\n",
    "\n",
    "  with open(os.path.join(_new_poems_dir,  f'poems.csv'), 'w', newline='') as csvfile:\n",
    "      writer = csv.writer(csvfile)\n",
    "      writer.writerow(['filename', 'author', 'poem'])\n",
    "\n",
    "      for txtfile in sorted(_poems_files):\n",
    "        filename = txtfile.split('/')[-1]\n",
    "        authorname = txtfile.split('/')[-1].split('_')[0]\n",
    "        \n",
    "        poem = []\n",
    "        with open(txtfile, 'r', encoding='utf-8-sig') as f:\n",
    "          for line in f:\n",
    "            line_noend = line.strip()   # no end of line\n",
    "            line_nopunct = re.sub(r'[^\\w\\s]', ' ', line_noend)  # no punctuation\n",
    "            line_noacc = unidecode(line_nopunct, 'utf-8')  # no accents\n",
    "            for x in line_noacc.split(' '):\n",
    "              if x == 'et':\n",
    "                poem.append('e')\n",
    "              else:\n",
    "                poem.append(x)\n",
    "\n",
    "        clean_poem = re.sub(r'\\s+', ' ', ' '.join(poem)).strip()  # with spaces\n",
    "\n",
    "        writer.writerow([filename, authorname, clean_poem])"
   ]
  },
  {
   "cell_type": "code",
   "execution_count": null,
   "metadata": {
    "id": "1wC1xRMztmlV"
   },
   "outputs": [],
   "source": [
    "if poems_clean:\n",
    "  poems_df = pd.read_csv(os.path.join(incerto_dir, 'poems', 'poems.csv'))\n",
    "  print(len(poems_df))\n",
    "else:\n",
    "  cleaning_poems(new_poems_dir, poems_files)"
   ]
  },
  {
   "cell_type": "markdown",
   "metadata": {
    "id": "v3EVV1_gqeyZ"
   },
   "source": [
    "## Splitting poems into sonnets"
   ]
  },
  {
   "cell_type": "code",
   "execution_count": 10,
   "metadata": {
    "executionInfo": {
     "elapsed": 147,
     "status": "ok",
     "timestamp": 1681177329196,
     "user": {
      "displayName": "Federica Bologna",
      "userId": "16530074403271623482"
     },
     "user_tz": 240
    },
    "id": "1ucr647sqUXe"
   },
   "outputs": [],
   "source": [
    "def splitting_poems(_new_poems_dir, _og_poems_dir):\n",
    "\n",
    "  with open(os.path.join(_new_poems_dir, f'poems_split.csv'), 'w', newline='') as csvfile:\n",
    "      writer = csv.writer(csvfile)\n",
    "      writer.writerow(['label', 'filename', 'author', 'poem'])\n",
    "\n",
    "      df = pd.read_csv(os.path.join(_new_poems_dir, f'poems_whole.csv'))\n",
    "      for index, row in df.iterrows():\n",
    "        if row['author'] != 'Petrarca':\n",
    "          txtfile = os.path.join(_og_poems_dir, row['filename'])\n",
    "\n",
    "        with open(txtfile, 'r', encoding='utf-8-sig') as f:\n",
    "          filelines = f.readlines()\n",
    "          \n",
    "          if 12 <= len(filelines) <= 16:\n",
    "            writer.writerow([row['label'], row['filename'], row['author'], row['poem']])\n",
    "\n",
    "          else:\n",
    "            ix = 0\n",
    "            n = 14\n",
    "            lines = [l.strip() for l in filelines]\n",
    "            for i in range(0, len(lines), n):\n",
    "              chunk = lines[i:i+n]\n",
    "\n",
    "              label = row['label']\n",
    "\n",
    "              \n",
    "              new_chunk = []\n",
    "              for line in chunk:\n",
    "                line_nonewlines = re.sub(r'/(\\r\\n)+|\\r+|\\n+|\\t+/', '', line)  # no end of line\n",
    "                line_nopunct = re.sub(r'[^\\w\\s]', ' ', line_nonewlines)  # no punctuation\n",
    "                line_noacc = unidecode(line_nopunct, 'utf-8')       # no accents\n",
    "                for x in line_noacc.split(' '):\n",
    "                  if x:\n",
    "                    if x == 'et':\n",
    "                      new_chunk.append('e')\n",
    "                    else:\n",
    "                      new_chunk.append(x)\n",
    "\n",
    "              if new_chunk:             \n",
    "                clean_chunk = re.sub(r'\\s+', ' ', ' '.join(new_chunk)).strip()   # with spaces\n",
    "\n",
    "                ix += 1\n",
    "                code = f'{label}_{ix}'\n",
    "                writer.writerow([code, row['filename'], row['author'], clean_chunk])"
   ]
  },
  {
   "cell_type": "code",
   "execution_count": 11,
   "metadata": {
    "colab": {
     "base_uri": "https://localhost:8080/"
    },
    "executionInfo": {
     "elapsed": 693,
     "status": "ok",
     "timestamp": 1681177330761,
     "user": {
      "displayName": "Federica Bologna",
      "userId": "16530074403271623482"
     },
     "user_tz": 240
    },
    "id": "NOvb3InVsgXq",
    "outputId": "e8534d90-5eb6-4620-efa6-e435425c36f2"
   },
   "outputs": [
    {
     "name": "stdout",
     "output_type": "stream",
     "text": [
      "DV16\n",
      "GG5\n"
     ]
    }
   ],
   "source": [
    "if poems_split:\n",
    "  splitting_poems(new_poems_dir, og_poems_dir)"
   ]
  },
  {
   "cell_type": "markdown",
   "metadata": {
    "id": "AWVZOU8dXAzQ"
   },
   "source": [
    "## Petrarca's poems"
   ]
  },
  {
   "cell_type": "code",
   "execution_count": null,
   "metadata": {
    "id": "jGfbo5zHXAJm"
   },
   "outputs": [],
   "source": [
    "with open(os.path.join(og_poems_dir, 'petrarca', 'Petrarca_Rvf_for_VF_analysis_5Oct2022_utf8.txt'), 'r', encoding='utf_8_sig') as f:\n",
    "  lines = ''.join([line for line in f])\n",
    "\n",
    "poems = [poem for poem in lines.split('\\n\\n') if '**' in poem and poem != '\\n']"
   ]
  },
  {
   "cell_type": "code",
   "execution_count": null,
   "metadata": {
    "id": "9_4L6HSJYiFw"
   },
   "outputs": [],
   "source": [
    "with open(os.path.join(new_poems_dir, f'petrarca.csv'), 'w', newline='') as csvfile:\n",
    "  writer = csv.writer(csvfile)\n",
    "  writer.writerow(['label', 'filename', 'author', 'poem'])\n",
    "  filename = 'Petrarca_Rvf_for_VF_analysis_5Oct2022_utf8.txt'\n",
    "  authorname = 'Petrarca'\n",
    "\n",
    "  for poem in poems:\n",
    "    new_poem = []\n",
    "    for line in poem.split('\\n'):\n",
    "\n",
    "      if '**' in line:\n",
    "        label = 'P'+str(line.strip('**').split(' ')[0])\n",
    "\n",
    "      else:\n",
    "        line_nopunct = re.sub(r'[^\\w\\s]', ' ', line)  # no punctuation\n",
    "        line_noacc = unidecode(line_nopunct, 'utf-8')  # no accents\n",
    "        for x in line_noacc.split(' '):\n",
    "          if x == 'et':\n",
    "            new_poem.append('e')\n",
    "          else:\n",
    "            new_poem.append(x)\n",
    "\n",
    "    clean_poem = re.sub(r'\\s+', ' ', ' '.join(new_poem)).strip()  # with spaces\n",
    "\n",
    "    writer.writerow([label, filename, authorname, clean_poem])"
   ]
  },
  {
   "cell_type": "code",
   "execution_count": null,
   "metadata": {
    "id": "-1ZglvP-jQjK"
   },
   "outputs": [],
   "source": [
    "with open(os.path.join(new_poems_dir, f'petrarca_split.csv'), 'w', newline='') as csvfile:\n",
    "  writer = csv.writer(csvfile)\n",
    "  writer.writerow(['label', 'filename', 'author', 'poem'])\n",
    "  filename = 'Petrarca_Rvf_for_VF_analysis_5Oct2022_utf8.txt'\n",
    "  authorname = 'Petrarca'\n",
    "\n",
    "  for poem in poems:\n",
    "\n",
    "    poemlines = poem.split('\\n')\n",
    "\n",
    "    if 12 <= len(poemlines[2:]) <= 16:\n",
    "      \n",
    "      new_poem = []\n",
    "      for line in poemlines:\n",
    "\n",
    "        if '**' in line:\n",
    "          label = 'P'+str(line.replace('**', '').split(' ')[0])\n",
    "\n",
    "        else:\n",
    "          line_nopunct = re.sub(r'[^\\w\\s]', ' ', line)  # no punctuation\n",
    "          line_noacc = unidecode(line_nopunct, 'utf-8')  # no accents\n",
    "          for x in line_noacc.split(' '):\n",
    "            if x == 'et':\n",
    "              new_poem.append('e')\n",
    "            else:\n",
    "              new_poem.append(x)\n",
    "\n",
    "      clean_poem = re.sub(r'\\s+', ' ', ' '.join(new_poem)).strip()\n",
    "\n",
    "      writer.writerow([label, filename, authorname, clean_poem])\n",
    "\n",
    "\n",
    "    else:\n",
    "\n",
    "      for line in poemlines[:5]:\n",
    "        if '**' in line:\n",
    "          label = 'P'+str(line.replace('**', '').split(' ')[0])        \n",
    "\n",
    "      ix = 0\n",
    "      n = 14\n",
    "      \n",
    "      for i in range(0, len(poemlines[2:]), n):\n",
    "        chunk = poemlines[2:][i:i+n]\n",
    "\n",
    "        new_chunk = []\n",
    "        for line in chunk:\n",
    "          line_nonewlines = re.sub(r'/(\\r\\n)+|\\r+|\\n+|\\t+/', '', line)  # no end of line\n",
    "          line_nopunct = re.sub(r'[^\\w\\s]', ' ', line_nonewlines)  # no punctuation\n",
    "          line_noacc = unidecode(line_nopunct, 'utf-8')       # no accents\n",
    "          for x in line_noacc.split(' '):\n",
    "            if x:\n",
    "              if x == 'et':\n",
    "                new_chunk.append('e')\n",
    "              else:\n",
    "                new_chunk.append(x)\n",
    "\n",
    "        if new_chunk:             \n",
    "          clean_chunk = re.sub(r'\\s+', ' ', ' '.join(new_chunk)).strip()   # with spaces\n",
    "\n",
    "          ix += 1\n",
    "          code = f'{label}_{ix}'\n",
    "          writer.writerow([code, filename, authorname, clean_chunk])"
   ]
  }
 ],
 "metadata": {
  "colab": {
   "authorship_tag": "ABX9TyN6bVoSJp4ylRSfo94BxsC0",
   "provenance": []
  },
  "kernelspec": {
   "display_name": "Python 3",
   "name": "python3"
  },
  "language_info": {
   "name": "python"
  }
 },
 "nbformat": 4,
 "nbformat_minor": 0
}
